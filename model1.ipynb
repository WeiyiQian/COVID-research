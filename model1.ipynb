{
 "metadata": {
  "language_info": {
   "codemirror_mode": {
    "name": "ipython",
    "version": 3
   },
   "file_extension": ".py",
   "mimetype": "text/x-python",
   "name": "python",
   "nbconvert_exporter": "python",
   "pygments_lexer": "ipython3",
   "version": "3.8.3-final"
  },
  "orig_nbformat": 2,
  "kernelspec": {
   "name": "python38332bitc1da63421237474bb47795fae254a8a2",
   "display_name": "Python 3.8.3 32-bit"
  }
 },
 "nbformat": 4,
 "nbformat_minor": 2,
 "cells": [
  {
   "source": [
    "Idea is build a basic grid model that has a M*M size with a input of N people treated as particles fit in a grid. For each time step, every person can possibly move in one of 4 directions. Need following data from literatures, P as the general individual possibility of Covid positivity, $\\tau$ as the transmission probability when people in contact, $n_{i}$ as the number of contacts for ith person before he/she gets infected. Assume no social intervene for the contagion, no fully free movement, no dynamics of the transmission. "
   ],
   "cell_type": "markdown",
   "metadata": {}
  },
  {
   "cell_type": "code",
   "execution_count": 119,
   "metadata": {},
   "outputs": [],
   "source": [
    "import numpy as np\n",
    "import random\n",
    "from itertools import product"
   ]
  },
  {
   "cell_type": "code",
   "execution_count": 121,
   "metadata": {},
   "outputs": [],
   "source": [
    "def f(t,P,n):\n",
    "    p=1-(1-P)*(1-P*t)**n\n",
    "    return p\n",
    "\n",
    "def d(x1,y1,x2,y2):\n",
    "    return (x1-x2)^2+(y1-y2)**2\n"
   ]
  },
  {
   "source": [
    "After defining the transmission assessment function, we randomly distribute particles(humans) in the grid without initial contacts."
   ],
   "cell_type": "markdown",
   "metadata": {}
  },
  {
   "cell_type": "code",
   "execution_count": 122,
   "metadata": {
    "tags": []
   },
   "outputs": [],
   "source": [
    "M = 100         #size\n",
    "N = 3000        #Total number of people\n",
    "P = 0.007       #individual probability of covid positive in cook county\n",
    "t = 0.02        #tau the transmission probability 6% per hour, assume people move every 20 mins, thus 2% per 20-mins\n",
    "T = 9           #Time steps for 3-hour-long event with 20-min intervals\n",
    "p = np.zeros(N) #Each person's infection possibility after T steps\n",
    "n = np.zeros(N) #Each person's number of contacts during the event\n",
    "coordinates = list(product(range(M),range(M)))\n",
    "coordinates_lists = [list(element) for element in coordinates]\n",
    "random.seed()\n",
    "c = random.choices(coordinates_lists, k=N)\n"
   ]
  },
  {
   "source": [
    "Next, change coordinates of N people randomly by 1 grid or 0 grid, with hard wall boundary conditions. "
   ],
   "cell_type": "markdown",
   "metadata": {}
  },
  {
   "cell_type": "code",
   "execution_count": 123,
   "metadata": {},
   "outputs": [],
   "source": [
    "for s in range(T):\n",
    "    for i in range(N):\n",
    "        if c[i][0] == 0:\n",
    "            xdir = [0,1]\n",
    "        if c[i][0] == M-1:\n",
    "            xdir = [-1,0]\n",
    "        if c[i][0] != 0 & c[i][0] != M-1:\n",
    "            xdir = [-1,0,1]\n",
    "\n",
    "        if c[i][1] == 0:\n",
    "            ydir = [0,1]\n",
    "        if c[i][1] == M-1:\n",
    "            ydir = [-1,0]\n",
    "        if c[i][1] != 0 & c[i][1] != M-1:\n",
    "            ydir = [-1,0,1]\n",
    "    \n",
    "        c[i][0] += random.choice(xdir)\n",
    "        c[i][1] += random.choice(ydir)"
   ]
  },
  {
   "source": [
    "Evaluate the distances between people and the overlaps number for each person."
   ],
   "cell_type": "markdown",
   "metadata": {}
  },
  {
   "cell_type": "code",
   "execution_count": 124,
   "metadata": {},
   "outputs": [],
   "source": [
    "\n",
    "    for i in range(N):\n",
    "        m = 0\n",
    "        for j in range(N):\n",
    "            if j != i:\n",
    "                if d(c[i][0],c[i][1],c[j][0],c[j][1]) == 0:\n",
    "                    m += 1\n",
    "                else:\n",
    "                    continue\n",
    "            else:\n",
    "                continue\n",
    "        n[i] += m "
   ]
  },
  {
   "source": [
    "Calculate the final result of expectation value of getting infected after the event."
   ],
   "cell_type": "markdown",
   "metadata": {}
  },
  {
   "cell_type": "code",
   "execution_count": 125,
   "metadata": {},
   "outputs": [
    {
     "output_type": "stream",
     "name": "stdout",
     "text": [
      "contacts for each person: [1. 7. 1. ... 1. 7. 0.]\nprobability of getting covid for each person: [0.00713902 0.00797273 0.00713902 ... 0.00713902 0.00797273 0.007     ]\ninitial value of probability of covid positive: 0.007\nexpectation value of getting covid for each person: 0.0075149041916102\n"
     ]
    }
   ],
   "source": [
    "print(\"contacts for each person:\",n)\n",
    "for i in range(N):\n",
    "    p[i] = f(t,P,n[i])\n",
    "print(\"probability of getting covid for each person:\",p)\n",
    "print(\"initial value of probability of covid positive:\",P)\n",
    "result = np.average(p)\n",
    "print(\"expectation value of getting covid for each person:\",result)"
   ]
  }
 ]
}